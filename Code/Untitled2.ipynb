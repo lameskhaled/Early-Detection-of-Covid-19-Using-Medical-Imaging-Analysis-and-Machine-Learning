{
 "cells": [
  {
   "cell_type": "code",
   "execution_count": 4,
   "metadata": {},
   "outputs": [
    {
     "name": "stdout",
     "output_type": "stream",
     "text": [
      "3-conv-64-nodes-0-dense-1588474074\n",
      "Train on 445 samples, validate on 191 samples\n",
      "Epoch 1/10\n",
      "445/445 [==============================] - 1s 3ms/sample - loss: 7.4082 - accuracy: 0.5169 - val_loss: 8.2687 - val_accuracy: 0.4607\n",
      "Epoch 2/10\n",
      "445/445 [==============================] - 1s 2ms/sample - loss: 7.4082 - accuracy: 0.5169 - val_loss: 8.2687 - val_accuracy: 0.4607\n",
      "Epoch 3/10\n",
      "445/445 [==============================] - 1s 2ms/sample - loss: 7.4082 - accuracy: 0.5169 - val_loss: 8.2687 - val_accuracy: 0.4607\n",
      "Epoch 4/10\n",
      "445/445 [==============================] - 1s 2ms/sample - loss: 7.4082 - accuracy: 0.5169 - val_loss: 8.2687 - val_accuracy: 0.4607\n",
      "Epoch 5/10\n",
      "445/445 [==============================] - 1s 2ms/sample - loss: 7.4082 - accuracy: 0.5169 - val_loss: 8.2687 - val_accuracy: 0.4607\n",
      "Epoch 6/10\n",
      "445/445 [==============================] - 1s 2ms/sample - loss: 7.4082 - accuracy: 0.5169 - val_loss: 8.2687 - val_accuracy: 0.4607\n",
      "Epoch 7/10\n",
      "445/445 [==============================] - 1s 2ms/sample - loss: 7.4082 - accuracy: 0.5169 - val_loss: 8.2687 - val_accuracy: 0.4607\n",
      "Epoch 8/10\n",
      "445/445 [==============================] - 1s 2ms/sample - loss: 7.4082 - accuracy: 0.5169 - val_loss: 8.2687 - val_accuracy: 0.4607\n",
      "Epoch 9/10\n",
      "445/445 [==============================] - 1s 2ms/sample - loss: 7.4082 - accuracy: 0.5169 - val_loss: 8.2687 - val_accuracy: 0.4607\n",
      "Epoch 10/10\n",
      "445/445 [==============================] - 1s 2ms/sample - loss: 7.4082 - accuracy: 0.5169 - val_loss: 8.2687 - val_accuracy: 0.4607\n",
      "INFO:tensorflow:Assets written to: 64x3-CN.model\\assets\n"
     ]
    }
   ],
   "source": []
  },
  {
   "cell_type": "code",
   "execution_count": null,
   "metadata": {},
   "outputs": [],
   "source": []
  }
 ],
 "metadata": {
  "kernelspec": {
   "display_name": "Python 3",
   "language": "python",
   "name": "python3"
  },
  "language_info": {
   "codemirror_mode": {
    "name": "ipython",
    "version": 3
   },
   "file_extension": ".py",
   "mimetype": "text/x-python",
   "name": "python",
   "nbconvert_exporter": "python",
   "pygments_lexer": "ipython3",
   "version": "3.7.7"
  }
 },
 "nbformat": 4,
 "nbformat_minor": 4
}
